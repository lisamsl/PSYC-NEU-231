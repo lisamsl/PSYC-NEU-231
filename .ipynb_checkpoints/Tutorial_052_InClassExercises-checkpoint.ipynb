{
 "cells": [
  {
   "cell_type": "markdown",
   "metadata": {},
   "source": [
    "# In class exercises - Intro to Pandas Series and DataFrames"
   ]
  },
  {
   "cell_type": "markdown",
   "metadata": {},
   "source": [
    "## Import libs"
   ]
  },
  {
   "cell_type": "code",
   "execution_count": 4,
   "metadata": {},
   "outputs": [],
   "source": [
    "import pandas as pd\n",
    "from pandas import DataFrame, read_csv\n",
    "import numpy as np\n",
    "import matplotlib.pyplot as plt\n",
    "\n",
    "import os\n",
    "cwd = os.getcwd()"
   ]
  },
  {
   "cell_type": "markdown",
   "metadata": {},
   "source": [
    "## First import 'response_time_data.csv' data file\n",
    "* Contains RTs from 800 trials of a simple detection task from each of 20 subjects\n",
    "* Organizing into a DataFrame and then saved out in csv format\n",
    "* The index (row) and column labels are encoded in the csv file, so you'll need to read those in explcitly\n",
    "* Make sure to have a look at the DataFrame - use the df.head() function"
   ]
  },
  {
   "cell_type": "code",
   "execution_count": 9,
   "metadata": {},
   "outputs": [],
   "source": [
    "file_name = cwd + '/response_time_data.csv'\n",
    "\n",
    "#Creating the data frame\n",
    "df = pd.read_csv(file_name, index_col=0, header=0)\n",
    "df.head()\n",
    "\n",
    "df.to_csv('response_time_data.csv',index=True,header=True)\n"
   ]
  },
  {
   "cell_type": "markdown",
   "metadata": {},
   "source": [
    "## Now have a look at the data using built in Padas functionality\n",
    "* Check out the max/min of each row, standard deviation, percentiles, etc."
   ]
  },
  {
   "cell_type": "code",
   "execution_count": 22,
   "metadata": {},
   "outputs": [
    {
     "name": "stdout",
     "output_type": "stream",
     "text": [
      "Max: \n",
      " \n",
      "\n",
      " Tri0       8147.939691\n",
      "Tri1       7410.337807\n",
      "Tri2       7537.781867\n",
      "Tri3       5431.187785\n",
      "Tri4       8186.457041\n",
      "Tri5       5268.016210\n",
      "Tri6       6009.945843\n",
      "Tri7       7505.781800\n",
      "Tri8       5277.547086\n",
      "Tri9       5802.017010\n",
      "Tri10      9493.147896\n",
      "Tri11      6855.044510\n",
      "Tri12      7079.723259\n",
      "Tri13      7583.853123\n",
      "Tri14      8460.181684\n",
      "Tri15      6603.612971\n",
      "Tri16      6352.487413\n",
      "Tri17      7033.016570\n",
      "Tri18      6076.972257\n",
      "Tri19      6875.100886\n",
      "Tri20      7175.587179\n",
      "Tri21      9126.489066\n",
      "Tri22      6952.390799\n",
      "Tri23      6783.466281\n",
      "Tri24     10061.049263\n",
      "Tri25      6404.474740\n",
      "Tri26      6221.959882\n",
      "Tri27      7500.719769\n",
      "Tri28      6439.059402\n",
      "Tri29      6449.023514\n",
      "              ...     \n",
      "Tri770     8775.582668\n",
      "Tri771     9753.921246\n",
      "Tri772     8765.415950\n",
      "Tri773     8407.932097\n",
      "Tri774     7119.668571\n",
      "Tri775     9133.851062\n",
      "Tri776     4466.085911\n",
      "Tri777     8827.325748\n",
      "Tri778     6830.768774\n",
      "Tri779     9756.056048\n",
      "Tri780     9967.211069\n",
      "Tri781     6253.286042\n",
      "Tri782     5583.087318\n",
      "Tri783     9772.163046\n",
      "Tri784     7545.226232\n",
      "Tri785     5764.741121\n",
      "Tri786     6650.716001\n",
      "Tri787    11944.107999\n",
      "Tri788     7661.254945\n",
      "Tri789     7768.737201\n",
      "Tri790     5387.471180\n",
      "Tri791     7865.373656\n",
      "Tri792     4981.495428\n",
      "Tri793     6936.139635\n",
      "Tri794     5213.908137\n",
      "Tri795     7542.080044\n",
      "Tri796     6383.009192\n",
      "Tri797     7408.190559\n",
      "Tri798     8621.009037\n",
      "Tri799    66666.000000\n",
      "Length: 800, dtype: float64\n",
      "Min: \n",
      " \n",
      "\n",
      " Tri0       143.695964\n",
      "Tri1       786.895089\n",
      "Tri2       435.950399\n",
      "Tri3       104.448476\n",
      "Tri4      1086.063139\n",
      "Tri5        68.184823\n",
      "Tri6       501.585571\n",
      "Tri7       143.606176\n",
      "Tri8      1069.322671\n",
      "Tri9       233.150604\n",
      "Tri10      738.715809\n",
      "Tri11       14.216346\n",
      "Tri12       37.948280\n",
      "Tri13     1124.765465\n",
      "Tri14       29.286915\n",
      "Tri15     1057.886020\n",
      "Tri16      345.901126\n",
      "Tri17      293.872467\n",
      "Tri18       20.223690\n",
      "Tri19      194.371185\n",
      "Tri20      354.741832\n",
      "Tri21      385.817210\n",
      "Tri22      105.080751\n",
      "Tri23      567.936693\n",
      "Tri24       32.019499\n",
      "Tri25      259.467407\n",
      "Tri26      587.611647\n",
      "Tri27       23.429444\n",
      "Tri28      765.461186\n",
      "Tri29      213.195206\n",
      "             ...     \n",
      "Tri770     201.555076\n",
      "Tri771     968.723980\n",
      "Tri772     253.650458\n",
      "Tri773     788.957415\n",
      "Tri774     234.181038\n",
      "Tri775     478.139010\n",
      "Tri776       2.748561\n",
      "Tri777      98.144376\n",
      "Tri778     478.314962\n",
      "Tri779     169.207955\n",
      "Tri780    1168.414376\n",
      "Tri781    1109.216533\n",
      "Tri782      91.023169\n",
      "Tri783     801.468903\n",
      "Tri784     264.197193\n",
      "Tri785      68.064516\n",
      "Tri786     474.145463\n",
      "Tri787     859.124963\n",
      "Tri788     174.671708\n",
      "Tri789     769.815872\n",
      "Tri790      23.718172\n",
      "Tri791    1025.562265\n",
      "Tri792     154.592033\n",
      "Tri793     411.802772\n",
      "Tri794     264.346041\n",
      "Tri795     136.751172\n",
      "Tri796      39.055602\n",
      "Tri797     142.867085\n",
      "Tri798      15.529804\n",
      "Tri799     289.417464\n",
      "Length: 800, dtype: float64\n",
      "Standard Deviation: \n",
      "\n",
      "Tri0       1876.863397\n",
      "Tri1       1817.540782\n",
      "Tri2       1716.308057\n",
      "Tri3       1660.179746\n",
      "Tri4       2231.765144\n",
      "Tri5       1573.211978\n",
      "Tri6       1439.639592\n",
      "Tri7       2352.641780\n",
      "Tri8       1319.850887\n",
      "Tri9       1721.335760\n",
      "Tri10      1912.459948\n",
      "Tri11      1937.794339\n",
      "Tri12      1840.218764\n",
      "Tri13      1658.815109\n",
      "Tri14      2457.077752\n",
      "Tri15      1405.142242\n",
      "Tri16      1671.517299\n",
      "Tri17      1770.244515\n",
      "Tri18      1714.695654\n",
      "Tri19      2100.098665\n",
      "Tri20      1598.741822\n",
      "Tri21      2851.251714\n",
      "Tri22      1909.808391\n",
      "Tri23      1806.361143\n",
      "Tri24      2340.749906\n",
      "Tri25      1790.237107\n",
      "Tri26      1745.761296\n",
      "Tri27      2016.010462\n",
      "Tri28      1902.922779\n",
      "Tri29      1519.260807\n",
      "              ...     \n",
      "Tri770     2490.699939\n",
      "Tri771     2247.886244\n",
      "Tri772     1942.184542\n",
      "Tri773     2106.884781\n",
      "Tri774     1941.918328\n",
      "Tri775     2309.092739\n",
      "Tri776     1421.065140\n",
      "Tri777     1905.770089\n",
      "Tri778     1708.065519\n",
      "Tri779     2749.125263\n",
      "Tri780     2311.090449\n",
      "Tri781     1385.007017\n",
      "Tri782     1726.907044\n",
      "Tri783     1994.585678\n",
      "Tri784     1912.140953\n",
      "Tri785     1582.353830\n",
      "Tri786     1869.312360\n",
      "Tri787     2386.967296\n",
      "Tri788     1610.624777\n",
      "Tri789     2269.712461\n",
      "Tri790     1467.651474\n",
      "Tri791     1701.246657\n",
      "Tri792     1396.011791\n",
      "Tri793     1777.496972\n",
      "Tri794     1385.099709\n",
      "Tri795     2436.097320\n",
      "Tri796     1703.669084\n",
      "Tri797     1937.936032\n",
      "Tri798     2167.106141\n",
      "Tri799    14409.466450\n",
      "Length: 800, dtype: float64\n"
     ]
    }
   ],
   "source": [
    "df.describe()\n",
    "\n",
    "#Percentiles\n",
    "df.describe(percentiles=np.linspace(0,1,11))\n",
    "\n",
    "#Max/Min\n",
    "print(\"Max: \\n \")\n",
    "print(\"\\n\", df.max(axis=1))\n",
    "\n",
    "print(\"Min: \\n \")\n",
    "print(\"\\n\", df.min(axis=1))\n",
    "\n",
    "#Standard deviation\n",
    "print(\"Standard Deviation: \\n\")\n",
    "print(df.std(axis=1))"
   ]
  },
  {
   "cell_type": "markdown",
   "metadata": {},
   "source": [
    "# Are there missing values (NaNs) in the data?"
   ]
  },
  {
   "cell_type": "code",
   "execution_count": 32,
   "metadata": {},
   "outputs": [
    {
     "name": "stdout",
     "output_type": "stream",
     "text": [
      "Sub0      0\n",
      "Sub1      0\n",
      "Sub2      0\n",
      "Sub3      0\n",
      "Sub4      4\n",
      "Sub5      0\n",
      "Sub6      0\n",
      "Sub7      1\n",
      "Sub8      0\n",
      "Sub9      2\n",
      "Sub10     0\n",
      "Sub11    11\n",
      "Sub12     0\n",
      "Sub13     3\n",
      "Sub14     3\n",
      "Sub15     0\n",
      "Sub16     0\n",
      "Sub17    15\n",
      "Sub18     7\n",
      "Sub19     0\n",
      "dtype: int64\n",
      "There are missing values in your data\n"
     ]
    }
   ],
   "source": [
    "isNaN = np.sum(np.isnan(df), axis=0)\n",
    "print(isNaN)\n",
    "\n",
    "#Checking if any values in data are true. If so there are NaNs\n",
    "if (isNaN.any(axis=0)):\n",
    "    print(\"There are missing values in your data\")\n",
    "    "
   ]
  },
  {
   "cell_type": "markdown",
   "metadata": {},
   "source": [
    "## What about outliers? Lets define outliers here as > 2 * std away from the mean for each subject\n",
    "* After you've found the outliers for each subject, replace those values with a np.nan (NaN)"
   ]
  },
  {
   "cell_type": "code",
   "execution_count": 45,
   "metadata": {},
   "outputs": [
    {
     "name": "stdout",
     "output_type": "stream",
     "text": [
      "Sub0     1779.474153\n",
      "Sub1     1476.122674\n",
      "Sub2     1434.749989\n",
      "Sub3     1722.695784\n",
      "Sub4     1394.508376\n",
      "Sub5     2544.771595\n",
      "Sub6     1529.182544\n",
      "Sub7     2000.548574\n",
      "Sub8     1302.153904\n",
      "Sub9     1935.519959\n",
      "Sub10    1745.629161\n",
      "Sub11    2662.686275\n",
      "Sub12    2898.418570\n",
      "Sub13    1452.494803\n",
      "Sub14    2151.655387\n",
      "Sub15    1976.030065\n",
      "Sub16    1497.644375\n",
      "Sub17    2648.316102\n",
      "Sub18    1456.803723\n",
      "Sub19    2051.493761\n",
      "dtype: float64\n"
     ]
    },
    {
     "ename": "ValueError",
     "evalue": "The truth value of a DataFrame is ambiguous. Use a.empty, a.bool(), a.item(), a.any() or a.all().",
     "output_type": "error",
     "traceback": [
      "\u001b[0;31m---------------------------------------------------------------------------\u001b[0m",
      "\u001b[0;31mValueError\u001b[0m                                Traceback (most recent call last)",
      "\u001b[0;32m<ipython-input-45-ac59226a98be>\u001b[0m in \u001b[0;36m<module>\u001b[0;34m()\u001b[0m\n\u001b[1;32m      5\u001b[0m \u001b[0mprint\u001b[0m\u001b[0;34m(\u001b[0m\u001b[0mstd\u001b[0m\u001b[0;34m)\u001b[0m\u001b[0;34m\u001b[0m\u001b[0m\n\u001b[1;32m      6\u001b[0m \u001b[0;34m\u001b[0m\u001b[0m\n\u001b[0;32m----> 7\u001b[0;31m \u001b[0moutlier\u001b[0m \u001b[0;34m=\u001b[0m \u001b[0;34m(\u001b[0m\u001b[0mdf\u001b[0m \u001b[0;34m>\u001b[0m \u001b[0;34m(\u001b[0m\u001b[0mmu\u001b[0m\u001b[0;34m+\u001b[0m\u001b[0mstd\u001b[0m\u001b[0;34m)\u001b[0m\u001b[0;34m)\u001b[0m \u001b[0;32mor\u001b[0m \u001b[0;34m(\u001b[0m\u001b[0mdf\u001b[0m \u001b[0;34m<\u001b[0m \u001b[0;34m(\u001b[0m\u001b[0mmu\u001b[0m \u001b[0;34m-\u001b[0m \u001b[0mstd\u001b[0m\u001b[0;34m)\u001b[0m\u001b[0;34m)\u001b[0m\u001b[0;34m\u001b[0m\u001b[0m\n\u001b[0m\u001b[1;32m      8\u001b[0m \u001b[0mprint\u001b[0m\u001b[0;34m(\u001b[0m\u001b[0moutlier\u001b[0m\u001b[0;34m)\u001b[0m\u001b[0;34m\u001b[0m\u001b[0m\n",
      "\u001b[0;32m~/anaconda3/lib/python3.7/site-packages/pandas/core/generic.py\u001b[0m in \u001b[0;36m__nonzero__\u001b[0;34m(self)\u001b[0m\n\u001b[1;32m   1574\u001b[0m         raise ValueError(\"The truth value of a {0} is ambiguous. \"\n\u001b[1;32m   1575\u001b[0m                          \u001b[0;34m\"Use a.empty, a.bool(), a.item(), a.any() or a.all().\"\u001b[0m\u001b[0;34m\u001b[0m\u001b[0m\n\u001b[0;32m-> 1576\u001b[0;31m                          .format(self.__class__.__name__))\n\u001b[0m\u001b[1;32m   1577\u001b[0m \u001b[0;34m\u001b[0m\u001b[0m\n\u001b[1;32m   1578\u001b[0m     \u001b[0m__bool__\u001b[0m \u001b[0;34m=\u001b[0m \u001b[0m__nonzero__\u001b[0m\u001b[0;34m\u001b[0m\u001b[0m\n",
      "\u001b[0;31mValueError\u001b[0m: The truth value of a DataFrame is ambiguous. Use a.empty, a.bool(), a.item(), a.any() or a.all()."
     ]
    }
   ],
   "source": [
    "#d = df.describe()\n",
    "\n",
    "std = df.std()\n",
    "mu = df.mean()\n",
    "print(std)\n",
    "\n",
    "outlier = (df > (mu+std)) or (df < (mu - std))\n",
    "print(outlier)\n",
    "\n"
   ]
  },
  {
   "cell_type": "markdown",
   "metadata": {},
   "source": [
    "## After you've found the outliers and replaced with NaNs for each subject, check out this function:\n",
    "[pandas.DataFrame.interpolate](https://pandas.pydata.org/pandas-docs/stable/generated/pandas.DataFrame.interpolate.html#pandas.DataFrame.interpolate)\n",
    "\n",
    "* Use this function to interpolate the missing values for each subject (do not interpolate across subjects!)\n",
    "* Just use linear interpolation..."
   ]
  },
  {
   "cell_type": "code",
   "execution_count": null,
   "metadata": {},
   "outputs": [],
   "source": []
  },
  {
   "cell_type": "markdown",
   "metadata": {},
   "source": [
    "## You can explore the \"Missing Values\" page for Pandas to figure out other ways of filling in missing values and outliers\n",
    "\n",
    "[page is here](https://pandas.pydata.org/pandas-docs/stable/missing_data.html#missing-data)\n",
    "\n",
    "* Figure out how to replace the outliers with the mean of each subject"
   ]
  },
  {
   "cell_type": "code",
   "execution_count": null,
   "metadata": {},
   "outputs": [],
   "source": []
  },
  {
   "cell_type": "markdown",
   "metadata": {},
   "source": [
    "## Use the Pandas.DataFrame.Sample function to generate bootstrapped confidence intervals for the data from subject 11\n",
    "\n",
    "[see this page for Samples](https://pandas.pydata.org/pandas-docs/version/0.22/generated/pandas.DataFrame.sample.html)\n",
    "\n",
    "\n",
    "* Resample Sub11's data with replacement, each time pulling N samples (800 in this case)\n",
    "* Generate a distribution of means across all resamples\n",
    "* Compute 95% confidence intervals using:\n",
    "\n",
    "[this page for quantiles](https://pandas.pydata.org/pandas-docs/stable/generated/pandas.DataFrame.quantile.html)"
   ]
  },
  {
   "cell_type": "code",
   "execution_count": null,
   "metadata": {},
   "outputs": [],
   "source": []
  }
 ],
 "metadata": {
  "kernelspec": {
   "display_name": "Python 3",
   "language": "python",
   "name": "python3"
  },
  "language_info": {
   "codemirror_mode": {
    "name": "ipython",
    "version": 3
   },
   "file_extension": ".py",
   "mimetype": "text/x-python",
   "name": "python",
   "nbconvert_exporter": "python",
   "pygments_lexer": "ipython3",
   "version": "3.7.0"
  }
 },
 "nbformat": 4,
 "nbformat_minor": 2
}
